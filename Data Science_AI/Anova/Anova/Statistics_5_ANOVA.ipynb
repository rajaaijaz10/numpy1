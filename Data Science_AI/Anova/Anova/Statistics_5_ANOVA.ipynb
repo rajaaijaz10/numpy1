{
 "cells": [
  {
   "cell_type": "markdown",
   "metadata": {},
   "source": [
    "# ANOVA (ANalysis Of VAriance)\n",
    "ANOVA is used to compare differences of means among more than 2 groups. It does this by looking at variation in the data and where that variation is found (hence its name). Specifically, ANOVA compares the amount of variation between groups with the amount of variation within groups.\n",
    "- Null hypothesis, typically is that, all means are equal.\n",
    "- The independent variables are categorical.\n",
    "- Dependent variables are continues.\n",
    "\n",
    "### F Value\n",
    "F = Sample means of between groups/sample means of within groups"
   ]
  },
  {
   "cell_type": "markdown",
   "metadata": {},
   "source": [
    " Use case\n",
    "- We are trying to predict the product sales based on its promotion, where low (radio,newspaper), middle(billboards in public places) and high level(TV ads) promotions are categorical in nature."
   ]
  },
  {
   "cell_type": "code",
   "execution_count": 5,
   "metadata": {},
   "outputs": [],
   "source": [
    "#Example\n",
    "import pandas as pd\n",
    "marks = {'A':[82,83,97],'B':[83,78,68],'C':[38,59,55]}\n",
    "df = pd.DataFrame(marks,index=['St1 Maths','St2 Maths','St3 Maths'])"
   ]
  },
  {
   "cell_type": "code",
   "execution_count": 6,
   "metadata": {},
   "outputs": [
    {
     "data": {
      "text/html": [
       "<div>\n",
       "<style scoped>\n",
       "    .dataframe tbody tr th:only-of-type {\n",
       "        vertical-align: middle;\n",
       "    }\n",
       "\n",
       "    .dataframe tbody tr th {\n",
       "        vertical-align: top;\n",
       "    }\n",
       "\n",
       "    .dataframe thead th {\n",
       "        text-align: right;\n",
       "    }\n",
       "</style>\n",
       "<table border=\"1\" class=\"dataframe\">\n",
       "  <thead>\n",
       "    <tr style=\"text-align: right;\">\n",
       "      <th></th>\n",
       "      <th>A</th>\n",
       "      <th>B</th>\n",
       "      <th>C</th>\n",
       "    </tr>\n",
       "  </thead>\n",
       "  <tbody>\n",
       "    <tr>\n",
       "      <th>St1 Maths</th>\n",
       "      <td>82</td>\n",
       "      <td>83</td>\n",
       "      <td>38</td>\n",
       "    </tr>\n",
       "    <tr>\n",
       "      <th>St2 Maths</th>\n",
       "      <td>83</td>\n",
       "      <td>78</td>\n",
       "      <td>59</td>\n",
       "    </tr>\n",
       "    <tr>\n",
       "      <th>St3 Maths</th>\n",
       "      <td>97</td>\n",
       "      <td>68</td>\n",
       "      <td>55</td>\n",
       "    </tr>\n",
       "  </tbody>\n",
       "</table>\n",
       "</div>"
      ],
      "text/plain": [
       "            A   B   C\n",
       "St1 Maths  82  83  38\n",
       "St2 Maths  83  78  59\n",
       "St3 Maths  97  68  55"
      ]
     },
     "execution_count": 6,
     "metadata": {},
     "output_type": "execute_result"
    }
   ],
   "source": [
    "#Marks obtained from the 3 students from different schools given below\n",
    "# Does the data suggest any association between schools and marks\n",
    "df"
   ]
  },
  {
   "cell_type": "markdown",
   "metadata": {},
   "source": [
    "Partition the total variation in the data into variance between groups and variance within groups.\n",
    "### Hypothesis construction\n",
    "ANOVA Hypothesis - The null hypothesis for ANOVA says that, average of dependent variable are same for all the given groups.   \n",
    "Alternate Hypothesis says, mean of dependent variable are not same for the given groups. \n",
    "\n",
    "-Ho : muA = muB = muC                                                                                                           \n",
    "-Ha : not all are equal"
   ]
  },
  {
   "cell_type": "code",
   "execution_count": 7,
   "metadata": {},
   "outputs": [
    {
     "name": "stdout",
     "output_type": "stream",
     "text": [
      "School A ====>  87.33\n",
      "School B ====>  76.33\n",
      "School C ====>  50.67\n"
     ]
    }
   ],
   "source": [
    "#Step 1 (Calculate the means of each school)\n",
    "school_a = df['A'].mean()\n",
    "school_b = df['B'].mean()\n",
    "school_c = df['C'].mean()\n",
    "print ('School A ====> ', round(school_a,2))\n",
    "print ('School B ====> ', round(school_b,2))\n",
    "print ('School C ====> ', round(school_c,2))"
   ]
  },
  {
   "cell_type": "code",
   "execution_count": 8,
   "metadata": {},
   "outputs": [
    {
     "name": "stdout",
     "output_type": "stream",
     "text": [
      "Grand mean =====> 71.44\n"
     ]
    }
   ],
   "source": [
    "#Step 2 (Calculate the grand mean)\n",
    "school_grand = (school_a + school_b + school_c)/3\n",
    "print ('Grand mean =====>',round(school_grand,2))"
   ]
  },
  {
   "cell_type": "code",
   "execution_count": 53,
   "metadata": {},
   "outputs": [],
   "source": [
    "#Step 3  Variations between,within and total\n",
    "# Sum of squared (SS) deviation about grand mean. \n",
    "#i.e. sum of (71.44 - 1st instance)**2 upto (71.44 - last instance)**2 and each squared\n",
    "#########  SS_Total\n",
    "#(71.44 - 82)**2 +(71.44 - 83)**2+(71.44 - 97)**2+\n",
    "#(71.44 - 83)**2+(71.44 - 78)**2+(71.44 - 68)**2+\n",
    "#(71.44 - 38)**2+(71.44 - 59)**2+(71.44 - 55)**2\n",
    "ss_total = 2630.2 \n",
    "\n",
    "#########   SS_Within\n",
    "#(87.3 - 82)**2 + (87.3 - 83)**2 + (87.3 - 97)**2 + \n",
    "#(76.3 - 83)**2 + (76.3 - 78)**2+(76.3 - 68)**2   +\n",
    "#(50.6 - 38)**2 +(50.6 - 59)**2+(50.6 - 55)**2\n",
    "ss_within = 506\n",
    "########   SS_Between\n",
    "# (Grand mean - Group A.mean)**2 multiply by 3 (3 is the number of items or students in group A) +\n",
    "# (Grand mean - Group B.mean)**2 multiply by 3 (3 is the number of items in group B) +\n",
    "# (Grand mean - Group C.mean)**2 multiply by 3 (3 is the number of items in group C) \n",
    "ss_between = 2124.2"
   ]
  },
  {
   "cell_type": "code",
   "execution_count": 54,
   "metadata": {},
   "outputs": [],
   "source": [
    "# Find the degrees of freedom\n",
    "#defr total = number of observations - 1 = 9-1 = 8\n",
    "defr_tot = 8\n",
    "# defr between = number of groups - 1 = 3-1 = 2\n",
    "defr_betw = 2\n",
    "# defr within = number of observations - number of groups = 9-3 = 6\n",
    "defr_with = 6"
   ]
  },
  {
   "cell_type": "code",
   "execution_count": 55,
   "metadata": {},
   "outputs": [
    {
     "name": "stdout",
     "output_type": "stream",
     "text": [
      "Mean Squared between groups == > 1062.1\n",
      "Mean Squared within groups == > 84.33333333333333\n"
     ]
    }
   ],
   "source": [
    "# Step 4 Calculate the mean squared variance\n",
    "ms_betw_gr = ss_between/defr_betw\n",
    "print ('Mean Squared between groups == >', ms_betw_gr)\n",
    "ms_with_gr = ss_within/defr_with\n",
    "print ('Mean Squared within groups == >', ms_with_gr)"
   ]
  },
  {
   "cell_type": "code",
   "execution_count": 46,
   "metadata": {},
   "outputs": [
    {
     "data": {
      "text/plain": [
       "12.594071146245058"
      ]
     },
     "execution_count": 46,
     "metadata": {},
     "output_type": "execute_result"
    }
   ],
   "source": [
    "# Step 5 Calcualte F statistics\n",
    "f_value = ms_betw_gr/ms_with_gr\n",
    "f_value"
   ]
  },
  {
   "cell_type": "code",
   "execution_count": 71,
   "metadata": {},
   "outputs": [],
   "source": [
    "# Calcualate the p value from the F table\n",
    "# p value for given f-value 12.59 and degrees of freedom 2(between) and 6(within) is 0.007"
   ]
  },
  {
   "cell_type": "markdown",
   "metadata": {},
   "source": [
    "### Conclusion\n",
    "Since the p value is less than alpha (.05), we can conclude by rejecting null hypothesis that, there is a difference in the marks obtained by students belonging to different groups"
   ]
  },
  {
   "cell_type": "markdown",
   "metadata": {},
   "source": [
    "# Using Python"
   ]
  },
  {
   "cell_type": "code",
   "execution_count": 16,
   "metadata": {},
   "outputs": [
    {
     "data": {
      "text/html": [
       "<div>\n",
       "<style scoped>\n",
       "    .dataframe tbody tr th:only-of-type {\n",
       "        vertical-align: middle;\n",
       "    }\n",
       "\n",
       "    .dataframe tbody tr th {\n",
       "        vertical-align: top;\n",
       "    }\n",
       "\n",
       "    .dataframe thead th {\n",
       "        text-align: right;\n",
       "    }\n",
       "</style>\n",
       "<table border=\"1\" class=\"dataframe\">\n",
       "  <thead>\n",
       "    <tr style=\"text-align: right;\">\n",
       "      <th></th>\n",
       "      <th>ID</th>\n",
       "      <th>Gender</th>\n",
       "      <th>Race</th>\n",
       "      <th>SEB</th>\n",
       "      <th>School</th>\n",
       "      <th>Prog</th>\n",
       "      <th>Read</th>\n",
       "      <th>Write</th>\n",
       "      <th>Math1</th>\n",
       "      <th>Math2</th>\n",
       "      <th>SST</th>\n",
       "    </tr>\n",
       "  </thead>\n",
       "  <tbody>\n",
       "    <tr>\n",
       "      <th>0</th>\n",
       "      <td>70</td>\n",
       "      <td>0</td>\n",
       "      <td>4</td>\n",
       "      <td>1</td>\n",
       "      <td>1</td>\n",
       "      <td>1</td>\n",
       "      <td>57</td>\n",
       "      <td>52</td>\n",
       "      <td>41</td>\n",
       "      <td>47</td>\n",
       "      <td>57</td>\n",
       "    </tr>\n",
       "    <tr>\n",
       "      <th>1</th>\n",
       "      <td>121</td>\n",
       "      <td>1</td>\n",
       "      <td>4</td>\n",
       "      <td>2</td>\n",
       "      <td>1</td>\n",
       "      <td>3</td>\n",
       "      <td>68</td>\n",
       "      <td>59</td>\n",
       "      <td>53</td>\n",
       "      <td>63</td>\n",
       "      <td>61</td>\n",
       "    </tr>\n",
       "    <tr>\n",
       "      <th>2</th>\n",
       "      <td>86</td>\n",
       "      <td>0</td>\n",
       "      <td>4</td>\n",
       "      <td>3</td>\n",
       "      <td>1</td>\n",
       "      <td>1</td>\n",
       "      <td>44</td>\n",
       "      <td>33</td>\n",
       "      <td>54</td>\n",
       "      <td>58</td>\n",
       "      <td>31</td>\n",
       "    </tr>\n",
       "    <tr>\n",
       "      <th>3</th>\n",
       "      <td>141</td>\n",
       "      <td>0</td>\n",
       "      <td>4</td>\n",
       "      <td>3</td>\n",
       "      <td>1</td>\n",
       "      <td>3</td>\n",
       "      <td>63</td>\n",
       "      <td>44</td>\n",
       "      <td>47</td>\n",
       "      <td>53</td>\n",
       "      <td>56</td>\n",
       "    </tr>\n",
       "    <tr>\n",
       "      <th>4</th>\n",
       "      <td>172</td>\n",
       "      <td>0</td>\n",
       "      <td>4</td>\n",
       "      <td>2</td>\n",
       "      <td>1</td>\n",
       "      <td>2</td>\n",
       "      <td>47</td>\n",
       "      <td>52</td>\n",
       "      <td>57</td>\n",
       "      <td>53</td>\n",
       "      <td>61</td>\n",
       "    </tr>\n",
       "  </tbody>\n",
       "</table>\n",
       "</div>"
      ],
      "text/plain": [
       "    ID  Gender  Race  SEB  School  Prog  Read  Write  Math1  Math2  SST\n",
       "0   70       0     4    1       1     1    57     52     41     47   57\n",
       "1  121       1     4    2       1     3    68     59     53     63   61\n",
       "2   86       0     4    3       1     1    44     33     54     58   31\n",
       "3  141       0     4    3       1     3    63     44     47     53   56\n",
       "4  172       0     4    2       1     2    47     52     57     53   61"
      ]
     },
     "execution_count": 16,
     "metadata": {},
     "output_type": "execute_result"
    }
   ],
   "source": [
    "import pandas as pd\n",
    "hyp = pd.read_csv('Hypothesis ttest.csv')\n",
    "hyp.head()"
   ]
  },
  {
   "cell_type": "markdown",
   "metadata": {},
   "source": [
    "As per ANOVA we need to find continues data based on the categorical variable.\n",
    "- Math1 is continues variable and \n",
    "- Program is categorical variable. "
   ]
  },
  {
   "cell_type": "code",
   "execution_count": 17,
   "metadata": {
    "scrolled": false
   },
   "outputs": [
    {
     "data": {
      "text/html": [
       "<div>\n",
       "<style scoped>\n",
       "    .dataframe tbody tr th:only-of-type {\n",
       "        vertical-align: middle;\n",
       "    }\n",
       "\n",
       "    .dataframe tbody tr th {\n",
       "        vertical-align: top;\n",
       "    }\n",
       "\n",
       "    .dataframe thead th {\n",
       "        text-align: right;\n",
       "    }\n",
       "</style>\n",
       "<table border=\"1\" class=\"dataframe\">\n",
       "  <thead>\n",
       "    <tr style=\"text-align: right;\">\n",
       "      <th></th>\n",
       "      <th>df</th>\n",
       "      <th>sum_sq</th>\n",
       "      <th>mean_sq</th>\n",
       "      <th>F</th>\n",
       "      <th>PR(&gt;F)</th>\n",
       "    </tr>\n",
       "  </thead>\n",
       "  <tbody>\n",
       "    <tr>\n",
       "      <th>Prog</th>\n",
       "      <td>1.0</td>\n",
       "      <td>393.527279</td>\n",
       "      <td>393.527279</td>\n",
       "      <td>4.564033</td>\n",
       "      <td>0.033878</td>\n",
       "    </tr>\n",
       "    <tr>\n",
       "      <th>Residual</th>\n",
       "      <td>198.0</td>\n",
       "      <td>17072.267721</td>\n",
       "      <td>86.223574</td>\n",
       "      <td>NaN</td>\n",
       "      <td>NaN</td>\n",
       "    </tr>\n",
       "  </tbody>\n",
       "</table>\n",
       "</div>"
      ],
      "text/plain": [
       "             df        sum_sq     mean_sq         F    PR(>F)\n",
       "Prog        1.0    393.527279  393.527279  4.564033  0.033878\n",
       "Residual  198.0  17072.267721   86.223574       NaN       NaN"
      ]
     },
     "execution_count": 17,
     "metadata": {},
     "output_type": "execute_result"
    }
   ],
   "source": [
    "import statsmodels.formula.api as sm\n",
    "mod=sm.ols('Math1~Prog',data=hyp).fit()\n",
    "import statsmodels.api as k\n",
    "aov_table=k.stats.anova_lm(mod)\n",
    "aov_table"
   ]
  },
  {
   "cell_type": "markdown",
   "metadata": {},
   "source": [
    "### prog     = Between\n",
    "### Residual = Within\n",
    "### sum_sq = sum(mean - x)*2\n",
    "### Prog - mean_sq = ss_between/df_between\n",
    "### Residual - mean_sq = ss_within/df_within\n",
    "### f value = between-mean_sq/within-mean_sq\n",
    "### PR = p value \n"
   ]
  },
  {
   "cell_type": "code",
   "execution_count": null,
   "metadata": {},
   "outputs": [],
   "source": []
  }
 ],
 "metadata": {
  "kernelspec": {
   "display_name": "Python 3",
   "language": "python",
   "name": "python3"
  },
  "language_info": {
   "codemirror_mode": {
    "name": "ipython",
    "version": 3
   },
   "file_extension": ".py",
   "mimetype": "text/x-python",
   "name": "python",
   "nbconvert_exporter": "python",
   "pygments_lexer": "ipython3",
   "version": "3.6.5"
  }
 },
 "nbformat": 4,
 "nbformat_minor": 2
}
