{
 "cells": [
  {
   "cell_type": "code",
   "execution_count": 1,
   "metadata": {},
   "outputs": [],
   "source": [
    "import pandas as pd\n",
    "import numpy as np"
   ]
  },
  {
   "cell_type": "code",
   "execution_count": 2,
   "metadata": {},
   "outputs": [],
   "source": [
    "np.random.seed(101)\n",
    "matrix_data = np.random.randn(5,4)\n",
    "row_labels = ['A','B','C','D','E']\n",
    "column_headings = ['W','X','Y','Z']\n",
    "df = pd.DataFrame(data=matrix_data, index=row_labels, columns=column_headings)\n",
    "\n"
   ]
  },
  {
   "cell_type": "code",
   "execution_count": 3,
   "metadata": {},
   "outputs": [
    {
     "name": "stdout",
     "output_type": "stream",
     "text": [
      "\n",
      "The DatFrame\n",
      "---------------------------------------------\n",
      "          W         X         Y         Z\n",
      "A  2.706850  0.628133  0.907969  0.503826\n",
      "B  0.651118 -0.319318 -0.848077  0.605965\n",
      "C -2.018168  0.740122  0.528813 -0.589001\n",
      "D  0.188695 -0.758872 -0.933237  0.955057\n",
      "E  0.190794  1.978757  2.605967  0.683509\n"
     ]
    }
   ],
   "source": [
    "print(\"\\nThe DatFrame\\n\",'-'*45, sep='')\n",
    "print(df)\n"
   ]
  },
  {
   "cell_type": "code",
   "execution_count": 4,
   "metadata": {},
   "outputs": [
    {
     "name": "stdout",
     "output_type": "stream",
     "text": [
      "\n",
      "Element at row 'B' and column 'Y' is\n",
      "\n",
      "-0.8480769834036315\n"
     ]
    }
   ],
   "source": [
    "print(\"\\nElement at row 'B' and column 'Y' is\\n\") \n",
    "print(df.loc['B','Y'])\n"
   ]
  },
  {
   "cell_type": "code",
   "execution_count": 5,
   "metadata": {},
   "outputs": [
    {
     "data": {
      "text/html": [
       "<div>\n",
       "<style scoped>\n",
       "    .dataframe tbody tr th:only-of-type {\n",
       "        vertical-align: middle;\n",
       "    }\n",
       "\n",
       "    .dataframe tbody tr th {\n",
       "        vertical-align: top;\n",
       "    }\n",
       "\n",
       "    .dataframe thead th {\n",
       "        text-align: right;\n",
       "    }\n",
       "</style>\n",
       "<table border=\"1\" class=\"dataframe\">\n",
       "  <thead>\n",
       "    <tr style=\"text-align: right;\">\n",
       "      <th></th>\n",
       "      <th>W</th>\n",
       "      <th>X</th>\n",
       "      <th>Y</th>\n",
       "      <th>Z</th>\n",
       "    </tr>\n",
       "  </thead>\n",
       "  <tbody>\n",
       "    <tr>\n",
       "      <th>A</th>\n",
       "      <td>2.706850</td>\n",
       "      <td>0.628133</td>\n",
       "      <td>0.907969</td>\n",
       "      <td>0.503826</td>\n",
       "    </tr>\n",
       "    <tr>\n",
       "      <th>B</th>\n",
       "      <td>0.651118</td>\n",
       "      <td>-0.319318</td>\n",
       "      <td>-0.848077</td>\n",
       "      <td>0.605965</td>\n",
       "    </tr>\n",
       "    <tr>\n",
       "      <th>C</th>\n",
       "      <td>-2.018168</td>\n",
       "      <td>0.740122</td>\n",
       "      <td>0.528813</td>\n",
       "      <td>-0.589001</td>\n",
       "    </tr>\n",
       "    <tr>\n",
       "      <th>D</th>\n",
       "      <td>0.188695</td>\n",
       "      <td>-0.758872</td>\n",
       "      <td>-0.933237</td>\n",
       "      <td>0.955057</td>\n",
       "    </tr>\n",
       "    <tr>\n",
       "      <th>E</th>\n",
       "      <td>0.190794</td>\n",
       "      <td>1.978757</td>\n",
       "      <td>2.605967</td>\n",
       "      <td>0.683509</td>\n",
       "    </tr>\n",
       "  </tbody>\n",
       "</table>\n",
       "</div>"
      ],
      "text/plain": [
       "          W         X         Y         Z\n",
       "A  2.706850  0.628133  0.907969  0.503826\n",
       "B  0.651118 -0.319318 -0.848077  0.605965\n",
       "C -2.018168  0.740122  0.528813 -0.589001\n",
       "D  0.188695 -0.758872 -0.933237  0.955057\n",
       "E  0.190794  1.978757  2.605967  0.683509"
      ]
     },
     "execution_count": 5,
     "metadata": {},
     "output_type": "execute_result"
    }
   ],
   "source": [
    "df"
   ]
  },
  {
   "cell_type": "code",
   "execution_count": 7,
   "metadata": {},
   "outputs": [
    {
     "name": "stdout",
     "output_type": "stream",
     "text": [
      "\n",
      "Subset comprising of rows B and D, and columns W and Y, is\n",
      "\n"
     ]
    },
    {
     "data": {
      "text/html": [
       "<div>\n",
       "<style scoped>\n",
       "    .dataframe tbody tr th:only-of-type {\n",
       "        vertical-align: middle;\n",
       "    }\n",
       "\n",
       "    .dataframe tbody tr th {\n",
       "        vertical-align: top;\n",
       "    }\n",
       "\n",
       "    .dataframe thead th {\n",
       "        text-align: right;\n",
       "    }\n",
       "</style>\n",
       "<table border=\"1\" class=\"dataframe\">\n",
       "  <thead>\n",
       "    <tr style=\"text-align: right;\">\n",
       "      <th></th>\n",
       "      <th>W</th>\n",
       "      <th>Y</th>\n",
       "      <th>Z</th>\n",
       "    </tr>\n",
       "  </thead>\n",
       "  <tbody>\n",
       "    <tr>\n",
       "      <th>B</th>\n",
       "      <td>0.651118</td>\n",
       "      <td>-0.848077</td>\n",
       "      <td>0.605965</td>\n",
       "    </tr>\n",
       "    <tr>\n",
       "      <th>D</th>\n",
       "      <td>0.188695</td>\n",
       "      <td>-0.933237</td>\n",
       "      <td>0.955057</td>\n",
       "    </tr>\n",
       "  </tbody>\n",
       "</table>\n",
       "</div>"
      ],
      "text/plain": [
       "          W         Y         Z\n",
       "B  0.651118 -0.848077  0.605965\n",
       "D  0.188695 -0.933237  0.955057"
      ]
     },
     "execution_count": 7,
     "metadata": {},
     "output_type": "execute_result"
    }
   ],
   "source": [
    "print(\"\\nSubset comprising of rows B and D, and columns W and Y, is\\n\")\n",
    "df.loc[['B','D'],['W','Y','Z']]"
   ]
  },
  {
   "cell_type": "code",
   "execution_count": 8,
   "metadata": {},
   "outputs": [
    {
     "name": "stdout",
     "output_type": "stream",
     "text": [
      "\n",
      "The DataFrame\n",
      "---------------------------------------------\n",
      "          W         X         Y         Z\n",
      "A  2.706850  0.628133  0.907969  0.503826\n",
      "B  0.651118 -0.319318 -0.848077  0.605965\n",
      "C -2.018168  0.740122  0.528813 -0.589001\n",
      "D  0.188695 -0.758872 -0.933237  0.955057\n",
      "E  0.190794  1.978757  2.605967  0.683509\n"
     ]
    }
   ],
   "source": [
    "print(\"\\nThe DataFrame\\n\",'-'*45, sep='')\n",
    "print(df)\n"
   ]
  },
  {
   "cell_type": "code",
   "execution_count": 9,
   "metadata": {},
   "outputs": [
    {
     "name": "stdout",
     "output_type": "stream",
     "text": [
      "\n",
      "Boolean DataFrame(s) where we are checking if the values are greater than 0\n",
      "---------------------------------------------------------------------------\n",
      "       W      X      Y      Z\n",
      "A   True   True   True   True\n",
      "B   True  False  False   True\n",
      "C  False   True   True  False\n",
      "D   True  False  False   True\n",
      "E   True   True   True   True\n"
     ]
    }
   ],
   "source": [
    "print(\"\\nBoolean DataFrame(s) where we are checking if the values are greater than 0\\n\",'-'*75, sep='')\n",
    "print(df>0)\n"
   ]
  },
  {
   "cell_type": "code",
   "execution_count": 10,
   "metadata": {},
   "outputs": [
    {
     "name": "stdout",
     "output_type": "stream",
     "text": [
      "\n",
      "\n",
      "       W      X      Y      Z\n",
      "A   True   True   True   True\n",
      "B   True  False  False   True\n",
      "C  False   True   True  False\n"
     ]
    }
   ],
   "source": [
    "print(\"\\n\")\n",
    "print(df.loc[['A','B','C']]>0)\n"
   ]
  },
  {
   "cell_type": "code",
   "execution_count": 12,
   "metadata": {},
   "outputs": [
    {
     "name": "stdout",
     "output_type": "stream",
     "text": [
      "\n",
      "DataFrame indexed by boolean dataframe\n",
      "---------------------------------------------\n",
      "          W         X         Y         Z\n",
      "A       NaN       NaN       NaN       NaN\n",
      "B       NaN -0.319318 -0.848077       NaN\n",
      "C -2.018168       NaN       NaN -0.589001\n",
      "D       NaN -0.758872 -0.933237       NaN\n",
      "E       NaN       NaN       NaN       NaN\n"
     ]
    }
   ],
   "source": [
    "booldf = df<0\n",
    "print(\"\\nDataFrame indexed by boolean dataframe\\n\",'-'*45, sep='')\n",
    "print(df[booldf])\n"
   ]
  },
  {
   "cell_type": "code",
   "execution_count": 13,
   "metadata": {},
   "outputs": [],
   "source": [
    "matrix_data = np.matrix('22,66,140;42,70,148;30,62,125;35,68,160;25,62,152')\n",
    "row_labels = ['A','B','C','D','E']\n",
    "column_headings = ['Age', 'Height', 'Weight']\n"
   ]
  },
  {
   "cell_type": "code",
   "execution_count": 14,
   "metadata": {},
   "outputs": [
    {
     "name": "stdout",
     "output_type": "stream",
     "text": [
      "\n",
      "A new DataFrame\n",
      "-------------------------\n",
      "   Age  Height  Weight\n",
      "A   22      66     140\n",
      "B   42      70     148\n",
      "C   30      62     125\n",
      "D   35      68     160\n",
      "E   25      62     152\n"
     ]
    }
   ],
   "source": [
    "df = pd.DataFrame(data=matrix_data, index=row_labels, columns=column_headings)\n",
    "print(\"\\nA new DataFrame\\n\",'-'*25, sep='')\n",
    "print(df)\n"
   ]
  },
  {
   "cell_type": "code",
   "execution_count": 15,
   "metadata": {},
   "outputs": [
    {
     "name": "stdout",
     "output_type": "stream",
     "text": [
      "\n",
      "Rows with Height > 65 inch\n",
      "-----------------------------------\n",
      "   Age  Height  Weight\n",
      "A   22      66     140\n",
      "B   42      70     148\n",
      "D   35      68     160\n"
     ]
    }
   ],
   "source": [
    "print(\"\\nRows with Height > 65 inch\\n\",'-'*35, sep='')\n",
    "print(df[df['Height']>65])\n"
   ]
  },
  {
   "cell_type": "code",
   "execution_count": 17,
   "metadata": {},
   "outputs": [
    {
     "data": {
      "text/html": [
       "<div>\n",
       "<style scoped>\n",
       "    .dataframe tbody tr th:only-of-type {\n",
       "        vertical-align: middle;\n",
       "    }\n",
       "\n",
       "    .dataframe tbody tr th {\n",
       "        vertical-align: top;\n",
       "    }\n",
       "\n",
       "    .dataframe thead th {\n",
       "        text-align: right;\n",
       "    }\n",
       "</style>\n",
       "<table border=\"1\" class=\"dataframe\">\n",
       "  <thead>\n",
       "    <tr style=\"text-align: right;\">\n",
       "      <th></th>\n",
       "      <th>Age</th>\n",
       "      <th>Height</th>\n",
       "      <th>Weight</th>\n",
       "    </tr>\n",
       "  </thead>\n",
       "  <tbody>\n",
       "    <tr>\n",
       "      <th>A</th>\n",
       "      <td>22</td>\n",
       "      <td>66</td>\n",
       "      <td>140</td>\n",
       "    </tr>\n",
       "    <tr>\n",
       "      <th>B</th>\n",
       "      <td>42</td>\n",
       "      <td>70</td>\n",
       "      <td>148</td>\n",
       "    </tr>\n",
       "    <tr>\n",
       "      <th>C</th>\n",
       "      <td>30</td>\n",
       "      <td>62</td>\n",
       "      <td>125</td>\n",
       "    </tr>\n",
       "    <tr>\n",
       "      <th>D</th>\n",
       "      <td>35</td>\n",
       "      <td>68</td>\n",
       "      <td>160</td>\n",
       "    </tr>\n",
       "    <tr>\n",
       "      <th>E</th>\n",
       "      <td>25</td>\n",
       "      <td>62</td>\n",
       "      <td>152</td>\n",
       "    </tr>\n",
       "  </tbody>\n",
       "</table>\n",
       "</div>"
      ],
      "text/plain": [
       "   Age  Height  Weight\n",
       "A   22      66     140\n",
       "B   42      70     148\n",
       "C   30      62     125\n",
       "D   35      68     160\n",
       "E   25      62     152"
      ]
     },
     "execution_count": 17,
     "metadata": {},
     "output_type": "execute_result"
    }
   ],
   "source": [
    "df"
   ]
  },
  {
   "cell_type": "code",
   "execution_count": 18,
   "metadata": {},
   "outputs": [],
   "source": [
    "booldf1 = df['Height']>65\n",
    "booldf2 = df['Weight']>145\n"
   ]
  },
  {
   "cell_type": "code",
   "execution_count": 19,
   "metadata": {},
   "outputs": [
    {
     "name": "stdout",
     "output_type": "stream",
     "text": [
      "\n",
      "Rows with Height > 65 inch and Weight >145 lbs\n",
      "-------------------------------------------------------\n",
      "   Age  Height  Weight\n",
      "B   42      70     148\n",
      "D   35      68     160\n"
     ]
    }
   ],
   "source": [
    "print(\"\\nRows with Height > 65 inch and Weight >145 lbs\\n\",'-'*55, sep='')\n",
    "print(df[(booldf1) & (booldf2)])\n"
   ]
  },
  {
   "cell_type": "code",
   "execution_count": 20,
   "metadata": {},
   "outputs": [
    {
     "name": "stdout",
     "output_type": "stream",
     "text": [
      "\n",
      "DataFrame with only Age and Weight columns whose Height > 65 inch\n",
      "--------------------------------------------------------------------\n",
      "   Age  Weight\n",
      "A   22     140\n",
      "B   42     148\n",
      "D   35     160\n"
     ]
    }
   ],
   "source": [
    "print(\"\\nDataFrame with only Age and Weight columns whose Height > 65 inch\\n\",'-'*68, sep='')\n",
    "print(df[booldf1][['Age','Weight']])"
   ]
  },
  {
   "cell_type": "code",
   "execution_count": 21,
   "metadata": {},
   "outputs": [],
   "source": [
    "matrix_data = np.matrix('22,66,140;42,70,148;30,62,125;35,68,160;25,62,152')\n",
    "row_labels = ['A','B','C','D','E']\n",
    "column_headings = ['Age', 'Height', 'Weight']\n"
   ]
  },
  {
   "cell_type": "code",
   "execution_count": 22,
   "metadata": {},
   "outputs": [
    {
     "name": "stdout",
     "output_type": "stream",
     "text": [
      "\n",
      "The DataFrame\n",
      "-------------------------\n",
      "   Age  Height  Weight\n",
      "A   22      66     140\n",
      "B   42      70     148\n",
      "C   30      62     125\n",
      "D   35      68     160\n",
      "E   25      62     152\n"
     ]
    }
   ],
   "source": [
    "df = pd.DataFrame(data=matrix_data, index=row_labels, columns=column_headings)\n",
    "print(\"\\nThe DataFrame\\n\",'-'*25, sep='')\n",
    "print(df)\n"
   ]
  },
  {
   "cell_type": "code",
   "execution_count": 23,
   "metadata": {},
   "outputs": [
    {
     "name": "stdout",
     "output_type": "stream",
     "text": [
      "\n",
      "After resetting index\n",
      "-----------------------------------\n",
      "  index  Age  Height  Weight\n",
      "0     A   22      66     140\n",
      "1     B   42      70     148\n",
      "2     C   30      62     125\n",
      "3     D   35      68     160\n",
      "4     E   25      62     152\n"
     ]
    }
   ],
   "source": [
    "print(\"\\nAfter resetting index\\n\",'-'*35, sep='')\n",
    "print(df.reset_index())\n"
   ]
  },
  {
   "cell_type": "code",
   "execution_count": 24,
   "metadata": {},
   "outputs": [
    {
     "name": "stdout",
     "output_type": "stream",
     "text": [
      "\n",
      "After resetting index with 'drop' option TRUE\n",
      "---------------------------------------------\n",
      "   Age  Height  Weight\n",
      "0   22      66     140\n",
      "1   42      70     148\n",
      "2   30      62     125\n",
      "3   35      68     160\n",
      "4   25      62     152\n"
     ]
    }
   ],
   "source": [
    "print(\"\\nAfter resetting index with 'drop' option TRUE\\n\",'-'*45, sep='')\n",
    "print(df.reset_index(drop=True))\n"
   ]
  },
  {
   "cell_type": "code",
   "execution_count": 26,
   "metadata": {},
   "outputs": [
    {
     "name": "stdout",
     "output_type": "stream",
     "text": [
      "\n",
      "Adding a new column 'Profession'\n",
      "---------------------------------------------\n",
      "   Age  Height  Weight Profession\n",
      "A   22      66     140    Student\n",
      "B   42      70     148    Teacher\n",
      "C   30      62     125   Engineer\n",
      "D   35      68     160     Doctor\n",
      "E   25      62     152      Nurse\n"
     ]
    }
   ],
   "source": [
    "print(\"\\nAdding a new column 'Profession'\\n\",'-'*45, sep='')\n",
    "df['Profession'] = \"Student Teacher Engineer Doctor Nurse\".split()\n",
    "print(df)\n"
   ]
  },
  {
   "cell_type": "code",
   "execution_count": 27,
   "metadata": {},
   "outputs": [
    {
     "name": "stdout",
     "output_type": "stream",
     "text": [
      "\n",
      "Setting 'Profession' column as index\n",
      "---------------------------------------------\n",
      "            Age  Height  Weight\n",
      "Profession                     \n",
      "Student      22      66     140\n",
      "Teacher      42      70     148\n",
      "Engineer     30      62     125\n",
      "Doctor       35      68     160\n",
      "Nurse        25      62     152\n"
     ]
    }
   ],
   "source": [
    "print(\"\\nSetting 'Profession' column as index\\n\",'-'*45, sep='')\n",
    "print (df.set_index('Profession'))"
   ]
  },
  {
   "cell_type": "code",
   "execution_count": null,
   "metadata": {},
   "outputs": [],
   "source": []
  }
 ],
 "metadata": {
  "kernelspec": {
   "display_name": "Python 3",
   "language": "python",
   "name": "python3"
  },
  "language_info": {
   "codemirror_mode": {
    "name": "ipython",
    "version": 3
   },
   "file_extension": ".py",
   "mimetype": "text/x-python",
   "name": "python",
   "nbconvert_exporter": "python",
   "pygments_lexer": "ipython3",
   "version": "3.8.5"
  }
 },
 "nbformat": 4,
 "nbformat_minor": 2
}
