{
 "cells": [
  {
   "cell_type": "markdown",
   "metadata": {},
   "source": [
    "# Statistics Problem"
   ]
  },
  {
   "cell_type": "markdown",
   "metadata": {},
   "source": [
    "1 . For a given Mean 494  and standard deviation = 100                                                                       \n",
    "-What is the probability of obtaining a score more than 700."
   ]
  },
  {
   "cell_type": "code",
   "execution_count": 2,
   "metadata": {},
   "outputs": [],
   "source": [
    "import scipy.stats as st"
   ]
  },
  {
   "cell_type": "code",
   "execution_count": 3,
   "metadata": {},
   "outputs": [
    {
     "data": {
      "text/plain": [
       "0.019699270409376912"
      ]
     },
     "execution_count": 3,
     "metadata": {},
     "output_type": "execute_result"
    }
   ],
   "source": [
    "#Probability always lies between 0 - 1\n",
    "mu = 494\n",
    "std = 100\n",
    "x = 700\n",
    "####### python formula\n",
    "1- st.norm.cdf(x,loc=mu,scale=std)"
   ]
  },
  {
   "cell_type": "markdown",
   "metadata": {},
   "source": [
    "2. Mercury makes a 2.4 lt V-6 engine, The Laser XRi, used in speedboats. The companies engineer believe that the engine delivers an average power of 220 horsepower and that the standard deviation of power delivered is 15 horsepower. A potential buyer intends to sample 100 engines(each engine to be run a single time). What is the probability that the sample mean will be less than 217 horsepower?"
   ]
  },
  {
   "cell_type": "code",
   "execution_count": 4,
   "metadata": {},
   "outputs": [],
   "source": [
    "µ = 220      \n",
    "σ = 15      \n",
    "n = 100        \n",
    "x̅ = 217         \n",
    "#p = ?"
   ]
  },
  {
   "cell_type": "code",
   "execution_count": null,
   "metadata": {},
   "outputs": [],
   "source": []
  },
  {
   "cell_type": "code",
   "execution_count": 8,
   "metadata": {},
   "outputs": [
    {
     "data": {
      "text/plain": [
       "0.022750131948179195"
      ]
     },
     "execution_count": 8,
     "metadata": {},
     "output_type": "execute_result"
    }
   ],
   "source": [
    "import numpy as np\n",
    "st.norm.cdf(x̅,loc=µ,scale=σ/np.sqrt(n))\n",
    "#st.norm.cdf(x̅,loc=µ,scale=1.5)"
   ]
  },
  {
   "cell_type": "markdown",
   "metadata": {},
   "source": [
    "3. Comcast, the computer services company, is planning to invest heavily in online television services. As part of the decision, the company wants to estimate the average no of online shows a family of four would watch per day. A random sample of n=100 families is obtained, and in this sample the average no of shows viewed per day is 6.5 and the population standard deviation is known to be 3.2. Construct a 95% confidence interval for the average no of online television shows watched by the entire population of families of four"
   ]
  },
  {
   "cell_type": "code",
   "execution_count": 2,
   "metadata": {},
   "outputs": [],
   "source": [
    "#Sample\n",
    "n = 100\n",
    "\n",
    "#Sample Mean\n",
    "xbar = 6.5\n",
    "\n",
    "#Population standard deviation\n",
    "sigma = 3.2\n",
    "\n",
    "#z = ?\n",
    "#mu = ?"
   ]
  },
  {
   "cell_type": "code",
   "execution_count": 3,
   "metadata": {},
   "outputs": [],
   "source": [
    "# 1.We need to find interval estimate in order solve this problem. i.e mu L to mu U = 95%\n",
    "# 2.Convert normal distribution in to z distribution i.e Standard Normal Distribution (SND) where mu = 0 and std = 1 (always)"
   ]
  },
  {
   "cell_type": "markdown",
   "metadata": {},
   "source": [
    "                                                                                            \n",
    "std = population mean / sqrt (n)                                                                                               \n",
    "mu = xbar - z * (std)                                                                                                          \n"
   ]
  },
  {
   "cell_type": "code",
   "execution_count": 16,
   "metadata": {},
   "outputs": [],
   "source": [
    "# Finding avg view from lower to higher end\n",
    "\n",
    "# Since 'p' is given, we will use 'ppf' function according to central limit theorom\n",
    "# 0.025 is sum of both end intervals ( 1-.95/2)\n",
    "import scipy.stats as st\n",
    "z = st.norm.ppf(.025,0,1)\n",
    "\n",
    "import numpy as np\n",
    "\n",
    "mu1 = xbar + z * sigma/np.sqrt(n)\n",
    "mu2 = xbar - z * sigma/np.sqrt(n)"
   ]
  },
  {
   "cell_type": "code",
   "execution_count": 17,
   "metadata": {},
   "outputs": [
    {
     "data": {
      "text/plain": [
       "5.872811524947182"
      ]
     },
     "execution_count": 17,
     "metadata": {},
     "output_type": "execute_result"
    }
   ],
   "source": [
    "mu1"
   ]
  },
  {
   "cell_type": "code",
   "execution_count": 18,
   "metadata": {},
   "outputs": [
    {
     "data": {
      "text/plain": [
       "7.127188475052818"
      ]
     },
     "execution_count": 18,
     "metadata": {},
     "output_type": "execute_result"
    }
   ],
   "source": [
    "mu2"
   ]
  },
  {
   "cell_type": "code",
   "execution_count": null,
   "metadata": {},
   "outputs": [],
   "source": []
  }
 ],
 "metadata": {
  "kernelspec": {
   "display_name": "Python 3",
   "language": "python",
   "name": "python3"
  },
  "language_info": {
   "codemirror_mode": {
    "name": "ipython",
    "version": 3
   },
   "file_extension": ".py",
   "mimetype": "text/x-python",
   "name": "python",
   "nbconvert_exporter": "python",
   "pygments_lexer": "ipython3",
   "version": "3.6.5"
  }
 },
 "nbformat": 4,
 "nbformat_minor": 2
}
