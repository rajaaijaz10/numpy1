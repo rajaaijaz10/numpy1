{
 "cells": [
  {
   "cell_type": "code",
   "execution_count": 6,
   "metadata": {},
   "outputs": [
    {
     "name": "stdout",
     "output_type": "stream",
     "text": [
      "a\n",
      "d\n"
     ]
    }
   ],
   "source": [
    "x = ['a','b','c','d','e']\n",
    "for c in range(0,len(x),3):\n",
    "    print(x[c])\n"
   ]
  },
  {
   "cell_type": "code",
   "execution_count": 10,
   "metadata": {},
   "outputs": [
    {
     "name": "stdout",
     "output_type": "stream",
     "text": [
      "35\n",
      "78\n",
      "33\n"
     ]
    }
   ],
   "source": [
    "y=[35,45,60,78,33]\n",
    "for n in range(0,len(y)):\n",
    "    if y[n] == 45 or y[n] == 60:\n",
    "        continue\n",
    "\n",
    "    print(y[n])\n",
    "    "
   ]
  },
  {
   "cell_type": "code",
   "execution_count": 13,
   "metadata": {},
   "outputs": [
    {
     "name": "stdout",
     "output_type": "stream",
     "text": [
      "[35, 78, 33]\n"
     ]
    }
   ],
   "source": [
    "y1=[35,45,60,78,33]\n",
    "y2=[]\n",
    "for n in y1:\n",
    "    if n == 45 or n == 60:\n",
    "        continue\n",
    "    y2.append(n)\n",
    "    \n",
    "print(y2)\n",
    "    "
   ]
  },
  {
   "cell_type": "code",
   "execution_count": null,
   "metadata": {},
   "outputs": [],
   "source": []
  }
 ],
 "metadata": {
  "kernelspec": {
   "display_name": "Python 3",
   "language": "python",
   "name": "python3"
  },
  "language_info": {
   "codemirror_mode": {
    "name": "ipython",
    "version": 3
   },
   "file_extension": ".py",
   "mimetype": "text/x-python",
   "name": "python",
   "nbconvert_exporter": "python",
   "pygments_lexer": "ipython3",
   "version": "3.8.5"
  }
 },
 "nbformat": 4,
 "nbformat_minor": 4
}
