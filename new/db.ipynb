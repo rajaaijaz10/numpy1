{
 "cells": [
  {
   "cell_type": "markdown",
   "metadata": {},
   "source": [
    "# Database "
   ]
  },
  {
   "cell_type": "code",
   "execution_count": 3,
   "metadata": {},
   "outputs": [
    {
     "name": "stdout",
     "output_type": "stream",
     "text": [
      "(2, 'v', 144)\n",
      "(8, 'vj', 44)\n"
     ]
    }
   ],
   "source": [
    "#import sqlite database as slq\n",
    "import sqlite3 as sql\n",
    "#connect to database named db1\n",
    "db= sql.connect(\"db1\")\n",
    "#create table\n",
    "db.execute(\"create table xyz (emp_id int, gender text,salary int, age int)\")\n",
    "#insert data\n",
    "db.execute(\"insert into emp (emp_id,gender,salary,age) values (100001,'M',)\")\n",
    "db.execute(\"insert into emp (emp_id,gender,salary,age) values ()\")\n",
    "db.execute(\"insert into emp (emp_id,gender,salary,age) values ()\")\n",
    "db.execute(\"insert into emp (emp_id,gender,salary,age) values ()\")\n",
    "db.execute(\"insert into emp (emp_id,gender,salary,age) values ()\")\n",
    "db.execute(\"insert into emp (emp_id,gender,salary,age) values ()\")\n",
    "db.execute(\"insert into emp (emp_id,gender,salary,age) values ()\")\n",
    "db.execute(\"insert into emp (emp_id,gender,salary,age) values ()\")\n",
    "db.execute(\"insert into emp (emp_id,gender,salary,age) values ()\")\n",
    "db.execute(\"insert into emp (emp_id,gender,salary,age) values ()\")\n",
    "\n",
    "db.commit()\n",
    "res=db.execute(\"select * from emp\")\n",
    "for row in res:\n",
    "    print(row)\n"
   ]
  },
  {
   "cell_type": "code",
   "execution_count": null,
   "metadata": {},
   "outputs": [],
   "source": []
  }
 ],
 "metadata": {
  "kernelspec": {
   "display_name": "Python 3",
   "language": "python",
   "name": "python3"
  },
  "language_info": {
   "codemirror_mode": {
    "name": "ipython",
    "version": 3
   },
   "file_extension": ".py",
   "mimetype": "text/x-python",
   "name": "python",
   "nbconvert_exporter": "python",
   "pygments_lexer": "ipython3",
   "version": "3.8.5"
  }
 },
 "nbformat": 4,
 "nbformat_minor": 4
}
