{
 "cells": [
  {
   "cell_type": "code",
   "execution_count": 9,
   "metadata": {},
   "outputs": [
    {
     "data": {
      "text/plain": [
       "60"
      ]
     },
     "execution_count": 9,
     "metadata": {},
     "output_type": "execute_result"
    }
   ],
   "source": [
    "d={\"dept\":{\"class\":{\"section\":[30,50,60,80]}}}\n",
    "d[\"dept\"][\"class\"][\"section\"][-2]\n",
    "\n"
   ]
  },
  {
   "cell_type": "code",
   "execution_count": 40,
   "metadata": {},
   "outputs": [
    {
     "name": "stdout",
     "output_type": "stream",
     "text": [
      "Enter your name :jhjh\n",
      "Hello jhjh!\n",
      "your Marks :  89\n"
     ]
    }
   ],
   "source": [
    "\n",
    "\n",
    "name=input(\"Enter your name :\")\n",
    "getres(name,30,59)"
   ]
  },
  {
   "cell_type": "code",
   "execution_count": null,
   "metadata": {},
   "outputs": [],
   "source": []
  },
  {
   "cell_type": "code",
   "execution_count": 38,
   "metadata": {},
   "outputs": [],
   "source": [
    "def getres(x,y ,z):\n",
    "    print(\"Hello \" + x + \"!\")\n",
    "    print(\"your Marks : \" ,y+z)\n",
    "    "
   ]
  },
  {
   "cell_type": "code",
   "execution_count": 41,
   "metadata": {},
   "outputs": [
    {
     "name": "stdout",
     "output_type": "stream",
     "text": [
      "Enter your name :Abeshak\n",
      "Hello Abeshak!\n",
      "your Marks :  89\n"
     ]
    }
   ],
   "source": [
    "name=input(\"Enter your name :\")\n",
    "getres(name,30,59)"
   ]
  },
  {
   "cell_type": "markdown",
   "metadata": {},
   "source": []
  },
  {
   "cell_type": "code",
   "execution_count": 75,
   "metadata": {},
   "outputs": [
    {
     "name": "stdout",
     "output_type": "stream",
     "text": [
      "-----------------------------------------------------------------------------------\n",
      "Hello Aijaz!\n",
      "Your total marks are :  251\n",
      "Your Average marks :  62.75\n",
      "Your percentage :  62.74999999999999\n",
      "-----------------------------------------------------------------------------------\n",
      "Hello Faizan!\n",
      "Your total marks are :  279\n",
      "Your Average marks :  69.75\n",
      "Your percentage :  69.75\n",
      "-----------------------------------------------------------------------------------\n",
      "Hello Shahid!\n",
      "Your total marks are :  297\n",
      "Your Average marks :  74.25\n",
      "Your percentage :  74.25\n",
      "-----------------------------------------------------------------------------------\n",
      "Hello Rajet!\n",
      "Your total marks are :  310\n",
      "Your Average marks :  77.5\n",
      "Your percentage :  77.5\n",
      "-----------------------------------------------------------------------------------\n",
      "Hello Suhas!\n",
      "Your total marks are :  322\n",
      "Your Average marks :  80.5\n",
      "Your percentage :  80.5\n",
      "-----------------------------------------------------------------------------------\n",
      "Hello Abeshak!\n",
      "Your total marks are :  287\n",
      "Your Average marks :  71.75\n",
      "Your percentage :  71.75\n",
      " \n",
      "***************************************************************************\n",
      " \n",
      "Topper is Suhas with  322  Marks\n",
      " \n",
      "***************************************************************************\n"
     ]
    }
   ],
   "source": [
    "names=[\"Aijaz\",\"Faizan\",\"Shahid\",\"Rajet\",\"Suhas\",\"Abeshak\"]\n",
    "marks={\"Aijaz\":[76,56,76,43],\"Faizan\":[71,49,93,66],\"Shahid\":[45,88,69,95],\"Rajet\":[67,90,87,66],\"Suhas\":[98,78,77,69],\"Abeshak\":[90,81,55,61]}\n",
    "top=0\n",
    "topper=0\n",
    "for n in names:\n",
    "        tt=results(n,marks[n])\n",
    "        if tt > top:\n",
    "            top=tt\n",
    "            topper=n\n",
    "\n",
    "print(\" \")\n",
    "print(\"***************************************************************************\")\n",
    "print(\" \")\n",
    "print (\"Topper is \" + topper + \" with \" , top ,\" Marks\")\n",
    "print(\" \")  \n",
    "print(\"***************************************************************************\")\n",
    "        \n",
    "        "
   ]
  },
  {
   "cell_type": "code",
   "execution_count": 67,
   "metadata": {},
   "outputs": [],
   "source": [
    "def results(name,marks):\n",
    "    print(\"-----------------------------------------------------------------------------------\")\n",
    "    total=0\n",
    "    print(\"Hello \" + name + \"!\")\n",
    "        \n",
    "    for m in marks:\n",
    "        total += m\n",
    "            \n",
    "    print(\"Your total marks are : \" , total )\n",
    "    print(\"Your Average marks : \" , total/4 )\n",
    "    print(\"Your percentage : \" , (total/400)*100 )\n",
    "    return total\n",
    "\n",
    "            \n",
    "    \n"
   ]
  }
 ],
 "metadata": {
  "kernelspec": {
   "display_name": "Python 3",
   "language": "python",
   "name": "python3"
  },
  "language_info": {
   "codemirror_mode": {
    "name": "ipython",
    "version": 3
   },
   "file_extension": ".py",
   "mimetype": "text/x-python",
   "name": "python",
   "nbconvert_exporter": "python",
   "pygments_lexer": "ipython3",
   "version": "3.8.5"
  }
 },
 "nbformat": 4,
 "nbformat_minor": 4
}
