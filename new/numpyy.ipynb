{
 "cells": [
  {
   "cell_type": "code",
   "execution_count": 11,
   "metadata": {
    "scrolled": true
   },
   "outputs": [
    {
     "name": "stdout",
     "output_type": "stream",
     "text": [
      "[10.   10.67 11.34 12.01 12.68 13.35 14.02 14.69 15.36 16.03 16.7  17.37\n",
      " 18.04 18.71 19.38]\n"
     ]
    }
   ],
   "source": [
    "import numpy as np\n",
    "from numpy import random \n",
    "l=np.arange(10,20,.67)\n",
    "print(l)\n",
    "\n"
   ]
  },
  {
   "cell_type": "markdown",
   "metadata": {},
   "source": [
    "## 2D matrix from random function"
   ]
  },
  {
   "cell_type": "code",
   "execution_count": 17,
   "metadata": {},
   "outputs": [
    {
     "data": {
      "text/plain": [
       "array([[14, 24, 27, 33, 15, 12, 37, 28, 26],\n",
       "       [23, 35, 13, 39, 30, 22, 11, 12, 37],\n",
       "       [23, 24, 16, 35, 28, 21, 21, 33, 31],\n",
       "       [13, 11, 17, 14, 19, 31, 25, 31, 16],\n",
       "       [21, 30, 13, 36, 17, 15, 36, 12, 10],\n",
       "       [14, 26, 23, 30, 26, 25, 10, 39, 31],\n",
       "       [23, 13, 13, 29, 26, 13, 12, 26, 29]])"
      ]
     },
     "execution_count": 17,
     "metadata": {},
     "output_type": "execute_result"
    }
   ],
   "source": [
    "y=random.randint(10,40,(7,9))\n",
    "y"
   ]
  },
  {
   "cell_type": "markdown",
   "metadata": {},
   "source": [
    "## Random (3x5x4) 3D matrix "
   ]
  },
  {
   "cell_type": "code",
   "execution_count": 16,
   "metadata": {},
   "outputs": [
    {
     "data": {
      "text/plain": [
       "array([[[-0.03228513,  1.48638084,  0.69605067, -0.54585545],\n",
       "        [-0.4711505 , -0.23202137,  0.09835629, -0.17436877],\n",
       "        [-0.46919382, -0.87393071, -0.60557904,  0.21481523],\n",
       "        [ 0.40464658, -0.44846011,  1.42208329, -0.69868043],\n",
       "        [ 1.49241287,  0.55202113, -0.56273024,  0.13500752]],\n",
       "\n",
       "       [[-0.05987659, -0.64117418,  1.18719015, -1.73125398],\n",
       "        [ 0.30134868,  1.00765719, -0.88990832,  0.29689401],\n",
       "        [ 2.30332207, -0.61979498, -0.52880001,  1.1480696 ],\n",
       "        [ 1.52141622,  0.18388807, -1.15520404,  1.41046666],\n",
       "        [-0.20384801,  0.86551429,  1.24868665,  0.76253691]],\n",
       "\n",
       "       [[-0.89661592,  0.58263423,  0.26678323, -0.90206676],\n",
       "        [-0.24082073, -1.17362764,  0.61686963,  0.79592007],\n",
       "        [-0.63788383, -0.4625203 ,  1.61794832,  0.61335561],\n",
       "        [-0.0125351 ,  0.71159394,  0.42906139, -2.08196102],\n",
       "        [-0.23783598,  0.31838537, -0.72444653,  0.10597292]]])"
      ]
     },
     "execution_count": 16,
     "metadata": {},
     "output_type": "execute_result"
    }
   ],
   "source": [
    "z=random.randn(3,5,4)\n",
    "z"
   ]
  }
 ],
 "metadata": {
  "kernelspec": {
   "display_name": "Python 3",
   "language": "python",
   "name": "python3"
  },
  "language_info": {
   "codemirror_mode": {
    "name": "ipython",
    "version": 3
   },
   "file_extension": ".py",
   "mimetype": "text/x-python",
   "name": "python",
   "nbconvert_exporter": "python",
   "pygments_lexer": "ipython3",
   "version": "3.8.5"
  }
 },
 "nbformat": 4,
 "nbformat_minor": 4
}
